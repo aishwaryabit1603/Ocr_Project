{
  "nbformat": 4,
  "nbformat_minor": 0,
  "metadata": {
    "colab": {
      "provenance": [],
      "authorship_tag": "ABX9TyPP8CC1qnwGYK5wO/6ZaQ6d",
      "include_colab_link": true
    },
    "kernelspec": {
      "name": "python3",
      "display_name": "Python 3"
    },
    "language_info": {
      "name": "python"
    }
  },
  "cells": [
    {
      "cell_type": "markdown",
      "metadata": {
        "id": "view-in-github",
        "colab_type": "text"
      },
      "source": [
        "<a href=\"https://colab.research.google.com/github/aishwaryabit1603/Ocr_Project/blob/main/ocr_project.ipynb\" target=\"_parent\"><img src=\"https://colab.research.google.com/assets/colab-badge.svg\" alt=\"Open In Colab\"/></a>"
      ]
    },
    {
      "cell_type": "code",
      "execution_count": 40,
      "metadata": {
        "colab": {
          "base_uri": "https://localhost:8080/"
        },
        "id": "Wd1eU5mGC_gg",
        "outputId": "8fbd84f0-935d-4646-f2dc-78c0ae39a4ae"
      },
      "outputs": [
        {
          "output_type": "stream",
          "name": "stdout",
          "text": [
            "Requirement already satisfied: python-levenshtein in /usr/local/lib/python3.10/dist-packages (0.25.1)\n",
            "Requirement already satisfied: Levenshtein==0.25.1 in /usr/local/lib/python3.10/dist-packages (from python-levenshtein) (0.25.1)\n",
            "Requirement already satisfied: rapidfuzz<4.0.0,>=3.8.0 in /usr/local/lib/python3.10/dist-packages (from Levenshtein==0.25.1->python-levenshtein) (3.9.4)\n"
          ]
        }
      ],
      "source": [
        "pip install python-levenshtein"
      ]
    },
    {
      "cell_type": "code",
      "source": [
        "# pip install pytesseract\n",
        "!sudo apt-get install tesseract-ocr"
      ],
      "metadata": {
        "colab": {
          "base_uri": "https://localhost:8080/"
        },
        "id": "lyy9WULgEMse",
        "outputId": "0411fa75-0db5-4013-87fa-49535fa6b91c"
      },
      "execution_count": 41,
      "outputs": [
        {
          "output_type": "stream",
          "name": "stdout",
          "text": [
            "Reading package lists... Done\n",
            "Building dependency tree... Done\n",
            "Reading state information... Done\n",
            "tesseract-ocr is already the newest version (4.1.1-2.1build1).\n",
            "0 upgraded, 0 newly installed, 0 to remove and 45 not upgraded.\n"
          ]
        }
      ]
    },
    {
      "cell_type": "code",
      "source": [
        "!pip install pyspellchecker"
      ],
      "metadata": {
        "colab": {
          "base_uri": "https://localhost:8080/"
        },
        "id": "62fxtT3OZjOA",
        "outputId": "a9ddfdb9-b5f8-42f0-e7dc-157a1fb6644f"
      },
      "execution_count": 141,
      "outputs": [
        {
          "output_type": "stream",
          "name": "stdout",
          "text": [
            "Collecting pyspellchecker\n",
            "  Downloading pyspellchecker-0.8.1-py3-none-any.whl (6.8 MB)\n",
            "\u001b[2K     \u001b[90m━━━━━━━━━━━━━━━━━━━━━━━━━━━━━━━━━━━━━━━━\u001b[0m \u001b[32m6.8/6.8 MB\u001b[0m \u001b[31m16.4 MB/s\u001b[0m eta \u001b[36m0:00:00\u001b[0m\n",
            "\u001b[?25hInstalling collected packages: pyspellchecker\n",
            "Successfully installed pyspellchecker-0.8.1\n"
          ]
        }
      ]
    },
    {
      "cell_type": "code",
      "source": [
        "import cv2\n",
        "import pytesseract\n",
        "from spellchecker import SpellChecker\n",
        "import re\n",
        "import Levenshtein\n",
        "from sklearn.metrics import precision_score, recall_score, f1_score\n",
        "import matplotlib.pyplot as plt\n",
        "from google.colab.patches import cv2_imshow"
      ],
      "metadata": {
        "id": "vWvo4yRra_K-"
      },
      "execution_count": 172,
      "outputs": []
    },
    {
      "cell_type": "code",
      "source": [
        "# Function to preprocess image\n",
        "def preprocess_image(image_path):\n",
        "    image = cv2.imread(image_path)\n",
        "\n",
        "    gray_img = cv2.cvtColor(image, cv2.COLOR_BGR2GRAY)\n",
        "\n",
        "    binary_img = cv2.adaptiveThreshold(gray_img, 255, cv2.ADAPTIVE_THRESH_GAUSSIAN_C, cv2.THRESH_BINARY, 11, 2)\n",
        "\n",
        "    denoised_img = cv2.fastNlMeansDenoising(gray_img, None, h=10, templateWindowSize=7, searchWindowSize=21)\n",
        "\n",
        "    return image, denoised_img"
      ],
      "metadata": {
        "colab": {
          "base_uri": "https://localhost:8080/",
          "height": 217
        },
        "id": "5NLEJHzBe4Xr",
        "outputId": "fa863cf3-8fc2-4c6a-a021-7b1afcadbddf"
      },
      "execution_count": 174,
      "outputs": [
        {
          "output_type": "stream",
          "name": "stdout",
          "text": [
            "Accuracy: 90.70%\n"
          ]
        },
        {
          "output_type": "display_data",
          "data": {
            "text/plain": [
              "<PIL.Image.Image image mode=RGB size=569x183>"
            ],
            "image/png": "[encoded data removed]"
          },
          "metadata": {}
        }
      ]
    },
    {
      "cell_type": "code",
      "source": [
        "# Function to detect characters, draw bounding boxes, and overlay recognized characters\n",
        "def detect_and_overlay_characters(image, processed_image):\n",
        "    h, w = processed_image.shape\n",
        "\n",
        "    boxes = pytesseract.image_to_boxes(processed_image)\n",
        "\n",
        "    spell = SpellChecker()\n",
        "\n",
        "    for box in boxes.splitlines():\n",
        "        box = box.split(' ')\n",
        "        character = box[0]\n",
        "        x, y, x2, y2 = int(box[1]), int(box[2]), int(box[3]), int(box[4])\n",
        "\n",
        "        cv2.rectangle(image, (x, h - y), (x2, h - y2), (0, 255, 0), 2)\n",
        "\n",
        "        text_width, text_height = cv2.getTextSize(character, cv2.FONT_HERSHEY_SIMPLEX, 0.5, 1)[0]\n",
        "        text_x = x - 3\n",
        "        text_y = h - y - 30\n",
        "\n",
        "        cv2.putText(image, character, (text_x, text_y), cv2.FONT_HERSHEY_SIMPLEX, 0.5, (0, 0, 0), 1)\n",
        "\n",
        "        corrected_character = spell.correction(character)\n",
        "        if corrected_character != character:\n",
        "            cv2.putText(image, corrected_character, (text_x, text_y - 20), cv2.FONT_HERSHEY_SIMPLEX, 0.5, (255, 0, 0), 1)\n",
        "\n",
        "    return image"
      ],
      "metadata": {
        "id": "GFiF-aMxg__1"
      },
      "execution_count": null,
      "outputs": []
    },
    {
      "cell_type": "code",
      "source": [
        "# Function for post-processing recognized text\n",
        "def post_process_text(text):\n",
        "    processed_text = text.lower()\n",
        "\n",
        "    processed_text = ' '.join(processed_text.split())\n",
        "\n",
        "    spell = SpellChecker()\n",
        "    corrected_words = []\n",
        "    for word in processed_text.split():\n",
        "        corrected_word = spell.correction(word)\n",
        "        if corrected_word is not None:\n",
        "            corrected_words.append(corrected_word)\n",
        "        else:\n",
        "            corrected_words.append(word)  # Use original word if no correction found\n",
        "\n",
        "    corrected_text = ' '.join(corrected_words)\n",
        "\n",
        "    return corrected_text"
      ],
      "metadata": {
        "id": "YiWDiislfRYo"
      },
      "execution_count": null,
      "outputs": []
    },
    {
      "cell_type": "code",
      "source": [
        "# Function to calculate Levenshtein distance\n",
        "def calculate_levenshtein_distance(pred_text, true_text):\n",
        "    return Levenshtein.distance(pred_text.replace(' ', ''), true_text.replace(' ', ''))"
      ],
      "metadata": {
        "id": "bqATmlGbhND4"
      },
      "execution_count": null,
      "outputs": []
    },
    {
      "cell_type": "code",
      "source": [
        "# Function to perform OCR on an image and measure accuracy\n",
        "def perform_ocr_and_measure_accuracy(image_path, ground_truth):\n",
        "    original_image, processed_image = preprocess_image(image_path)\n",
        "\n",
        "    result_image = detect_and_overlay_characters(original_image.copy(), processed_image)\n",
        "\n",
        "    text = pytesseract.image_to_string(processed_image)\n",
        "\n",
        "    corrected_text = post_process_text(text)\n",
        "\n",
        "    ground_truth_clean = re.sub(r'\\s+', '', ground_truth.lower())\n",
        "\n",
        "    ocr_output_clean = re.sub(r'\\s+', '', corrected_text.lower())\n",
        "\n",
        "    distance = calculate_levenshtein_distance(ocr_output_clean, ground_truth_clean)\n",
        "\n",
        "    accuracy = 1 - (distance / max(len(ocr_output_clean), len(ground_truth_clean)))\n",
        "\n",
        "    return result_image, corrected_text, accuracy"
      ],
      "metadata": {
        "id": "vylNex1GhQDf"
      },
      "execution_count": null,
      "outputs": []
    },
    {
      "cell_type": "code",
      "source": [
        "if __name__ == '__main__':\n",
        "    image_path = '/content/ocr_orig.jpg'\n",
        "    ground_truth = \"\"\"Hello World .\n",
        "                    Using Tesseract's OCR.\n",
        "                    From srcmake.\"\"\"\n",
        "\n",
        "    result_image, corrected_text, accuracy = perform_ocr_and_measure_accuracy(image_path, ground_truth)\n",
        "\n",
        "    print(f\"Accuracy: {accuracy:.2%}\")\n",
        "\n",
        "    # Display the result\n",
        "    cv2_imshow(result_image)\n",
        "    cv2.waitKey(0)\n",
        "    cv2.destroyAllWindows()"
      ],
      "metadata": {
        "id": "QnjIp4achSHi"
      },
      "execution_count": null,
      "outputs": []
    }
  ]
}